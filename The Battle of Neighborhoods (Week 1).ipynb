{
    "nbformat_minor": 1, 
    "cells": [
        {
            "source": "# Week 1 - The Battle of Neighborhoods", 
            "cell_type": "markdown", 
            "metadata": {
                "collapsed": true
            }
        }, 
        {
            "source": "## Introduction/Business Problem ", 
            "cell_type": "markdown", 
            "metadata": {}
        }, 
        {
            "source": "The French city of Bordeaux, considered \u00a0the world's top\u00a0wine city, is now the flagship of gourmets restaurants. The region offers a wide choice of gourmet restaurants, family bistros and the famous wine bars. \n\nBut, when it comes to short gastronomic trips, tourists are always unsure if it is better to travel to Bordeaux, in the southwest of France, or to Paris, already known for the beauty of the city and also for the glamorous gastronomy.\n\nThis project has the purpose of comparing these two gastronomic poles in relation to the quantity and characteristics of their restaurants in order to define which french city is the best in terms of food experiences.", 
            "cell_type": "markdown", 
            "metadata": {}
        }, 
        {
            "source": "## Data section", 
            "cell_type": "markdown", 
            "metadata": {}
        }, 
        {
            "source": "To this project, we will use two csv files containing the main locations of the cities of Paris and Bordeaux. Each csv file contains 4 columns: ID, Name, Latitude and Longitude of the main points of the city.\n\nFor this work we will consider the 20 arrondissements of Paris and all the cities of the metropolis of Bordeaux.\n\nThe Figures bellow present the two dataframes created from each csv file.", 
            "cell_type": "markdown", 
            "metadata": {}
        }, 
        {
            "source": "### Dataframe of Paris main locations: ", 
            "cell_type": "markdown", 
            "metadata": {}
        }, 
        {
            "source": "\n <tr>\n    <td> <img src=\"https://i.imgur.com/Esx7m6M.png\" alt=\"Drawing\" style=\"width: 450px;\"/> </td>\n    <td> <img src=\"https://i.imgur.com/YONrXXi.png\" alt=\"Drawing\" style=\"width: 450px;\"/> </td>\n    </tr>\n    ", 
            "cell_type": "markdown", 
            "metadata": {}
        }, 
        {
            "source": "### Dataframe of Bordeaux main locations: \n", 
            "cell_type": "markdown", 
            "metadata": {}
        }, 
        {
            "source": "\n <tr>\n    <td> <img src=\"https://i.imgur.com/vpdM2tY.png\" alt=\"Drawing\" style=\"width: 450px;\"/> </td>\n    <td> <img src=\"https://i.imgur.com/HEhHqTG.png\" alt=\"Drawing\" style=\"width: 450px;\"/> </td>\n    </tr>", 
            "cell_type": "markdown", 
            "metadata": {}
        }, 
        {
            "source": "With theses dataframes, we will use Foursquare development account to find all the restaurants, wine bars, bakeries, coffe shops or anywhere that offers a gastronomic experience. \n\nIt was necessary to perform a preprocessing work in the data, excluding locations that had nothing to do with gastronomic experiences and locations that appear repeated in the table.\n\nThe Figures below shows the result of the Foursquare requisition for the cities of Paris and Bordeaux, respectively.", 
            "cell_type": "markdown", 
            "metadata": {}
        }, 
        {
            "source": "\n <tr>\n    <td> <img src=\"https://i.imgur.com/CSAAoGQ.png\" alt=\"Drawing\" style=\"width: 550px;\"/> </td>\n    <td> <img src=\"https://i.imgur.com/l9k4uzi.png\" alt=\"Drawing\" style=\"width: 550px;\"/> </td>\n    </tr>\n    ", 
            "cell_type": "markdown", 
            "metadata": {}
        }, 
        {
            "source": "At this point of the work, we can begin the restaurant's analysis!", 
            "cell_type": "markdown", 
            "metadata": {}
        }, 
        {
            "execution_count": null, 
            "cell_type": "code", 
            "metadata": {}, 
            "outputs": [], 
            "source": ""
        }
    ], 
    "metadata": {
        "kernelspec": {
            "display_name": "Python 3.6", 
            "name": "python3", 
            "language": "python"
        }, 
        "language_info": {
            "mimetype": "text/x-python", 
            "nbconvert_exporter": "python", 
            "version": "3.6.8", 
            "name": "python", 
            "file_extension": ".py", 
            "pygments_lexer": "ipython3", 
            "codemirror_mode": {
                "version": 3, 
                "name": "ipython"
            }
        }
    }, 
    "nbformat": 4
}